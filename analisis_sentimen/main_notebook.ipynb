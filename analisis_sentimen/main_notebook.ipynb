{
 "cells": [
  {
   "cell_type": "markdown",
   "metadata": {},
   "source": [
    "# **Sentiment Analysis with Naive Bayes and Logistic Regression**"
   ]
  },
  {
   "cell_type": "markdown",
   "metadata": {},
   "source": [
    "## **Preparing Dependencies**"
   ]
  },
  {
   "cell_type": "markdown",
   "metadata": {},
   "source": [
    "**Download Dependencies**"
   ]
  },
  {
   "cell_type": "code",
   "execution_count": 2,
   "metadata": {},
   "outputs": [],
   "source": [
    "#!pip install openpyxl\n",
    "#!pip -q install sastrawi"
   ]
  },
  {
   "cell_type": "markdown",
   "metadata": {},
   "source": [
    "**Import Dependencies**"
   ]
  },
  {
   "cell_type": "code",
   "execution_count": 3,
   "metadata": {},
   "outputs": [],
   "source": [
    "import numpy as np\n",
    "import pandas as pd\n",
    "import matplotlib.pyplot as plt\n",
    "import pickle\n",
    "import re\n",
    "import seaborn as sn\n",
    "import nltk\n",
    "\n",
    "\n",
    "from tqdm.notebook import tqdm\n",
    "from tqdm import tqdm\n",
    "\n",
    "from Sastrawi.Stemmer.StemmerFactory import StemmerFactory\n",
    "\n",
    "from nltk.tokenize import sent_tokenize, word_tokenize\n",
    "from nltk.corpus import stopwords\n",
    "\n",
    "from sklearn.model_selection import train_test_split\n",
    "from sklearn.feature_extraction.text import TfidfVectorizer\n",
    "from sklearn.feature_selection import SelectKBest\n",
    "from sklearn.feature_selection import chi2\n",
    "from sklearn.naive_bayes import MultinomialNB, BernoulliNB, GaussianNB\n",
    "from sklearn.linear_model import LogisticRegression\n",
    "from sklearn.model_selection import GridSearchCV\n",
    "from sklearn.metrics import accuracy_score, f1_score\n",
    "from sklearn.metrics import classification_report, confusion_matrix\n",
    "\n",
    "%matplotlib inline"
   ]
  },
  {
   "cell_type": "code",
   "execution_count": null,
   "metadata": {},
   "outputs": [],
   "source": [
    "# download Stopwords bahasa indonesia\n",
    "nltk.download('stopwords')"
   ]
  },
  {
   "cell_type": "markdown",
   "metadata": {},
   "source": [
    "## **Load Dataset**"
   ]
  },
  {
   "cell_type": "code",
   "execution_count": null,
   "metadata": {},
   "outputs": [],
   "source": [
    "# membaca data dari file csv dengan menyertakan parameter delimeter\n",
    "df = pd.read_excel('dataset/fix_dataset.xlsx')\n",
    "df.head()"
   ]
  },
  {
   "cell_type": "code",
   "execution_count": null,
   "metadata": {
    "colab": {
     "base_uri": "https://localhost:8080/",
     "height": 424
    },
    "id": "zwqF_Z_YmezA",
    "outputId": "54a27ac6-eb03-415a-b83e-c2ac0668a7d3"
   },
   "outputs": [],
   "source": [
    "data = df[['comment', 'Labeling']]\n",
    "data = data.iloc[1:,:]\n",
    "data.head()"
   ]
  },
  {
   "cell_type": "markdown",
   "metadata": {},
   "source": [
    "## **Preprocessing**"
   ]
  },
  {
   "cell_type": "markdown",
   "metadata": {
    "id": "U-STUvBjo-Zq"
   },
   "source": [
    "### **Casefolding**"
   ]
  },
  {
   "cell_type": "code",
   "execution_count": null,
   "metadata": {
    "colab": {
     "base_uri": "https://localhost:8080/",
     "height": 206
    },
    "id": "C7QfbB2Ap1vZ",
    "outputId": "8b2bc5db-06f6-4b3f-e254-6af762eaca39"
   },
   "outputs": [],
   "source": [
    "# Fungsi casefolding\n",
    "def casefolding(text):\n",
    "    if isinstance(text, str):  # Pastikan hanya string yang diproses\n",
    "        text = text.lower()\n",
    "        text = re.sub(r'[^a-zA-Z0-9\\s]', '', text)  # Menghapus karakter non-alphabet\n",
    "    return text\n",
    "\n",
    "# Terapkan casefolding dengan memastikan setiap nilai diubah menjadi string\n",
    "data[\"casefolding\"] = data[\"comment\"].apply(lambda x: casefolding(str(x)))\n",
    "\n",
    "# Tampilkan data\n",
    "data.head()\n"
   ]
  },
  {
   "cell_type": "markdown",
   "metadata": {
    "id": "SGpYvSrSqGlf"
   },
   "source": [
    "### **Normalisasi Kata**"
   ]
  },
  {
   "cell_type": "code",
   "execution_count": null,
   "metadata": {
    "colab": {
     "base_uri": "https://localhost:8080/",
     "height": 241
    },
    "id": "9UBKpaFTqOKk",
    "outputId": "1c0835e8-1d24-43ba-82a9-8b61bc06340b"
   },
   "outputs": [],
   "source": [
    "key_norm = pd.read_csv('dataset/key_norm.csv')\n",
    "\n",
    "def text_normalize(text):\n",
    "    \n",
    "    text = ' '.join([key_norm[key_norm['singkat'] == word]['hasil'].values[0] if (key_norm['singkat'] == word).any() else word for word in text.split()])\n",
    "    text = str.lower(text)\n",
    "    \n",
    "    return text\n",
    "\n",
    "data['textnormalize'] = data['casefolding'].apply(text_normalize)\n",
    "data.head()"
   ]
  },
  {
   "cell_type": "markdown",
   "metadata": {
    "id": "e_GitSakqxy2"
   },
   "source": [
    "### **Stopwords Removal**"
   ]
  },
  {
   "cell_type": "code",
   "execution_count": null,
   "metadata": {
    "colab": {
     "base_uri": "https://localhost:8080/"
    },
    "id": "cFeFNW_2q52O",
    "outputId": "8e00a2e3-47b5-4804-d746-dbff6858821a"
   },
   "outputs": [],
   "source": [
    "stopwords_ind = stopwords.words('indonesian')\n",
    "stopwords_ind"
   ]
  },
  {
   "cell_type": "code",
   "execution_count": 10,
   "metadata": {
    "id": "sCQKlQSZrBpG"
   },
   "outputs": [],
   "source": [
    "# Membuat DataFrame dari daftar stopwords\n",
    "stopwords_df = pd.DataFrame(stopwords_ind, columns=['stopwords'])\n",
    "\n",
    "# Menyimpan DataFrame ke dalam file CSV\n",
    "stopwords_df.to_csv('stopwords_indonesian.csv', index=False)"
   ]
  },
  {
   "cell_type": "code",
   "execution_count": null,
   "metadata": {
    "colab": {
     "base_uri": "https://localhost:8080/",
     "height": 258
    },
    "id": "eiqN9iVprFGu",
    "outputId": "76e0ff2c-3115-4736-b063-c8234d1a839f"
   },
   "outputs": [],
   "source": [
    "def remove_stop_words(text):\n",
    "    clean_words = []\n",
    "    text = text.split()\n",
    "    for word in text:\n",
    "        if word not in stopwords_ind:\n",
    "            clean_words.append(word)\n",
    "            \n",
    "    return \" \".join(clean_words)\n",
    "\n",
    "data['stopwordremoval'] = data['textnormalize'].apply(remove_stop_words)\n",
    "data.head()"
   ]
  },
  {
   "cell_type": "markdown",
   "metadata": {
    "id": "V9Ssna3YrOmu"
   },
   "source": [
    "### **Stemming**"
   ]
  },
  {
   "cell_type": "code",
   "execution_count": null,
   "metadata": {
    "colab": {
     "base_uri": "https://localhost:8080/",
     "height": 310
    },
    "id": "NJOsghRkrSP1",
    "outputId": "44edfe21-6e52-404d-db78-893e4e0f896e"
   },
   "outputs": [],
   "source": [
    "# Set up the stemming factory\n",
    "factory = StemmerFactory()\n",
    "stemmer = factory.create_stemmer()\n",
    "\n",
    "# Buat fungsi untuk langkah stemming bahasa Indonesia\n",
    "def stemming(text):\n",
    "    return stemmer.stem(text)\n",
    "\n",
    "# Tambahkan support untuk tqdm pada pandas\n",
    "tqdm.pandas()\n",
    "\n",
    "# Terapkan stemming dengan tqdm untuk melihat progress\n",
    "data['stemming'] = data['stopwordremoval'].progress_apply(stemming)\n",
    "\n",
    "# Lihat hasilnya\n",
    "data.head()"
   ]
  },
  {
   "cell_type": "code",
   "execution_count": null,
   "metadata": {
    "colab": {
     "base_uri": "https://localhost:8080/",
     "height": 206
    },
    "id": "Hn4oVc1PrvD1",
    "outputId": "3334f797-60f3-465f-9bee-6b67f7c733b8"
   },
   "outputs": [],
   "source": [
    "data[\"clean_text\"] = data['stemming']\n",
    "\n",
    "data.drop([\"casefolding\",\"textnormalize\",\"stopwordremoval\",\"stemming\"],axis=1,inplace=True)\n",
    "data.head()"
   ]
  },
  {
   "cell_type": "markdown",
   "metadata": {},
   "source": [
    "### **Other Cleaning**"
   ]
  },
  {
   "cell_type": "code",
   "execution_count": null,
   "metadata": {
    "colab": {
     "base_uri": "https://localhost:8080/",
     "height": 424
    },
    "id": "W7qGiR0Wr3KE",
    "outputId": "f3d60513-bb9a-407d-e78b-f2078657070b"
   },
   "outputs": [],
   "source": [
    "data = data[data[\"clean_text\"]!=\"\"]\n",
    "data"
   ]
  },
  {
   "cell_type": "code",
   "execution_count": null,
   "metadata": {
    "colab": {
     "base_uri": "https://localhost:8080/",
     "height": 210
    },
    "id": "53fOH-ArsJas",
    "outputId": "55060329-ab50-40b4-f926-869778da5dcc"
   },
   "outputs": [],
   "source": [
    "data['Labeling'].value_counts()"
   ]
  },
  {
   "cell_type": "code",
   "execution_count": null,
   "metadata": {
    "colab": {
     "base_uri": "https://localhost:8080/",
     "height": 424
    },
    "id": "xeB5O5jmsNiV",
    "outputId": "58881659-3e96-44fb-ca87-aac347a7852d"
   },
   "outputs": [],
   "source": [
    "data = data[data['Labeling'] != 'netral']\n",
    "data"
   ]
  },
  {
   "cell_type": "markdown",
   "metadata": {},
   "source": [
    "## **Visualization**"
   ]
  },
  {
   "cell_type": "markdown",
   "metadata": {},
   "source": [
    "**Plot Sentimen tiap Channel**"
   ]
  },
  {
   "cell_type": "code",
   "execution_count": null,
   "metadata": {},
   "outputs": [],
   "source": [
    "sentimen_tiap_channel = pd.pivot_table(index = 'nama_channel', columns = 'Labeling', aggfunc = 'size', data = df, fill_value = 0)\n",
    "\n",
    "sentimen_tiap_channel.plot(kind = 'bar')"
   ]
  },
  {
   "cell_type": "markdown",
   "metadata": {},
   "source": [
    "**WordCloud Tiap Sentimen**"
   ]
  },
  {
   "cell_type": "code",
   "execution_count": 18,
   "metadata": {},
   "outputs": [],
   "source": [
    "from wordcloud import WordCloud"
   ]
  },
  {
   "cell_type": "code",
   "execution_count": 19,
   "metadata": {},
   "outputs": [],
   "source": [
    "def word_cloud_from_sentimen(data, sentimen) :\n",
    "    sentimen_data = data[data['Labeling'] == sentimen]\n",
    "    \n",
    "    sentimen_text = ' '.join(sentimen_data[\"clean_text\"].values.tolist())\n",
    "    \n",
    "    wordcloud_sentimen = WordCloud(width  = 800, \n",
    "                                   height = 800,\n",
    "                                   background_color = 'white',\n",
    "                                   stopwords = None,\n",
    "                                   min_font_size = 10).generate(sentimen_text)\n",
    "    \n",
    "    plt.figure(figsize=(16, 9))\n",
    "    plt.imshow(wordcloud_sentimen, interpolation='bilinear')\n",
    "    plt.title(f'Sentimen {sentimen.title()}')\n",
    "    plt.axis('off')\n",
    "    plt.show()"
   ]
  },
  {
   "cell_type": "code",
   "execution_count": null,
   "metadata": {},
   "outputs": [],
   "source": [
    "word_cloud_from_sentimen(data, 'positif')"
   ]
  },
  {
   "cell_type": "code",
   "execution_count": null,
   "metadata": {},
   "outputs": [],
   "source": [
    "word_cloud_from_sentimen(data, 'negatif')"
   ]
  },
  {
   "cell_type": "markdown",
   "metadata": {},
   "source": [
    "## **Splitting Data**"
   ]
  },
  {
   "cell_type": "code",
   "execution_count": 22,
   "metadata": {
    "id": "mbpnoE8asdkb"
   },
   "outputs": [],
   "source": [
    "X_raw = data[\"clean_text\"]\n",
    "y_raw = data[\"Labeling\"]\n",
    "\n",
    "#memisahkan menjadi 2 bagian yaitu 20% data uji 80% data latih\n",
    "X_train, X_test, y_train, y_test = train_test_split(X_raw.values, y_raw.values, test_size = 0.2, random_state=42, stratify = y_raw)"
   ]
  },
  {
   "cell_type": "markdown",
   "metadata": {},
   "source": [
    "## **Feature Extraction**"
   ]
  },
  {
   "cell_type": "code",
   "execution_count": null,
   "metadata": {
    "colab": {
     "base_uri": "https://localhost:8080/",
     "height": 80
    },
    "id": "KL-UsW8HshCL",
    "outputId": "75c43f0e-28b0-4b39-af35-110a2f8998ce"
   },
   "outputs": [],
   "source": [
    "vectorizer = TfidfVectorizer(ngram_range=(1,2))\n",
    "vectorizer.fit(X_train)"
   ]
  },
  {
   "cell_type": "code",
   "execution_count": null,
   "metadata": {
    "colab": {
     "base_uri": "https://localhost:8080/",
     "height": 273
    },
    "id": "o1ZTvdqFsj-M",
    "outputId": "531ff1dc-c416-4a3f-ea13-b682cafbd1f8"
   },
   "outputs": [],
   "source": [
    "X_train_TFIDF = vectorizer.transform(X_train).toarray()\n",
    "X_test_TFIDF  = vectorizer.transform(X_test).toarray() \n",
    "\n",
    "X = vectorizer.transform(data[\"clean_text\"]).toarray()\n",
    "\n",
    "kolom = vectorizer.get_feature_names_out()\n",
    "\n",
    "train_tf_idf = pd.DataFrame(X_train_TFIDF, columns=kolom)\n",
    "test_tf_idf  = pd.DataFrame(X_test_TFIDF,  columns=kolom)\n",
    "train_tf_idf.head()"
   ]
  },
  {
   "cell_type": "markdown",
   "metadata": {},
   "source": [
    "**Plot TF-IDF**"
   ]
  },
  {
   "cell_type": "code",
   "execution_count": 25,
   "metadata": {},
   "outputs": [],
   "source": [
    "colors = sn.color_palette(\"viridis\", n_colors = 3)"
   ]
  },
  {
   "cell_type": "markdown",
   "metadata": {},
   "source": [
    "- **Top 10 Kata Kunci dengan Nilai Rata-rata TF-IDF (Data Training)**"
   ]
  },
  {
   "cell_type": "code",
   "execution_count": null,
   "metadata": {},
   "outputs": [],
   "source": [
    "mean_tfidf = train_tf_idf.mean().sort_values(ascending=False).head(10)\n",
    "\n",
    "fig, ax = plt.subplots()\n",
    "\n",
    "ax.bar(mean_tfidf.index, mean_tfidf.values, color = colors)\n",
    "ax.set_ylabel('Rata-rata Nilai TF-IDF')\n",
    "\n",
    "plt.xticks(rotation = 45) ;"
   ]
  },
  {
   "cell_type": "markdown",
   "metadata": {},
   "source": [
    "- **Top 10 Kata Kunci dengan Nilai Rata-rata TF-IDF (Data Testing)**"
   ]
  },
  {
   "cell_type": "code",
   "execution_count": null,
   "metadata": {},
   "outputs": [],
   "source": [
    "mean_tfidf = test_tf_idf.mean().sort_values(ascending=False).head(10)\n",
    "\n",
    "fig, ax = plt.subplots()\n",
    "    \n",
    "ax.bar(mean_tfidf.index, mean_tfidf.values, color = colors)\n",
    "ax.set_ylabel('Rata-rata Nilai TF-IDF')\n",
    "plt.xticks(rotation = 45) ; "
   ]
  },
  {
   "cell_type": "markdown",
   "metadata": {},
   "source": [
    "## **Feature Selection**"
   ]
  },
  {
   "cell_type": "markdown",
   "metadata": {},
   "source": [
    "### **Feature Selection dengan k = 500**"
   ]
  },
  {
   "cell_type": "code",
   "execution_count": null,
   "metadata": {
    "colab": {
     "base_uri": "https://localhost:8080/"
    },
    "id": "fWR6jl_8smps",
    "outputId": "b9a50b95-2b71-490a-ad3d-17a363c91012"
   },
   "outputs": [],
   "source": [
    "chi2_500_features   = SelectKBest(chi2, k = 500)\n",
    "\n",
    "X_500_best_features = chi2_500_features.fit_transform(train_tf_idf, y_train)\n",
    "\n",
    "print('Banyaknya fitur awal:', train_tf_idf.shape[1])\n",
    "print('banyaknya fitur setelah di seleksi:', X_500_best_features.shape[1])\n"
   ]
  },
  {
   "cell_type": "code",
   "execution_count": 29,
   "metadata": {
    "id": "rcZ5Be3asp9N"
   },
   "outputs": [],
   "source": [
    "selected_500_feature_names = [kolom[i] for i in chi2_500_features.get_support(indices=True)]\n",
    "\n",
    "# Create a DataFrame with the selected features\n",
    "selected_500_train_tf_idf = pd.DataFrame(X_500_best_features, columns = selected_500_feature_names)\n",
    "\n",
    "# Save the DataFrame to an Excel file\n",
    "selected_500_train_tf_idf.to_excel('selected_TF_IDF_500_features_sastrawi.xlsx', index=False)"
   ]
  },
  {
   "cell_type": "markdown",
   "metadata": {},
   "source": [
    "### **Feature Selection with k in range (501-2000)**"
   ]
  },
  {
   "cell_type": "code",
   "execution_count": 48,
   "metadata": {},
   "outputs": [],
   "source": [
    "def model_performance_with_feature_selection_with_k_feature(start, end, model_) :\n",
    "    \n",
    "    k_feature_acc , k_feature_f1 , max_acc , max_f1 = [0, 0, 0, 0]\n",
    "\n",
    "    k = []\n",
    "    acc = []\n",
    "    f1 = []\n",
    "\n",
    "    # Loop untuk memilih fitur terbaik dan menghitung skor\n",
    "    for feature in tqdm(range(start, end + 1)) :\n",
    "        \n",
    "        chi2_features = SelectKBest(chi2, k = feature)\n",
    "        X_kbest_features = chi2_features.fit_transform(train_tf_idf.values, y_train)\n",
    "        \n",
    "        model = model_\n",
    "\n",
    "        model.fit(X_kbest_features, y_train)\n",
    "\n",
    "        # Transformasi data uji menggunakan chi2_features\n",
    "        X_test_ch2 = chi2_features.transform(X_test_TFIDF)\n",
    "\n",
    "        # Prediksi label untuk data uji\n",
    "        y_pred = model.predict(X_test_ch2)\n",
    "\n",
    "        # Hitung akurasi dan F1-Score\n",
    "        acc_temp = accuracy_score(y_test, y_pred)\n",
    "        f1_temp  = f1_score(y_test, y_pred, average = \"weighted\")\n",
    "\n",
    "        k.append(feature)\n",
    "        acc.append(acc_temp)\n",
    "        f1.append(f1_temp)\n",
    "\n",
    "        # Update hasil terbaik jika ditemukan skor yang lebih tinggi\n",
    "        if max_acc < acc_temp:\n",
    "            max_acc = acc_temp\n",
    "            k_feature_acc = feature\n",
    "            \n",
    "        if max_f1 < f1_temp:\n",
    "            max_f1 = f1_temp\n",
    "            k_feature_f1 = feature\n",
    "\n",
    "    hasil = {'max_accuracy' : max_acc,\n",
    "             'max_f1_score' : max_f1,  \n",
    "             'k_feature_acc': k_feature_acc,\n",
    "             'k_feature_f1' : k_feature_f1,\n",
    "             'k_history'    : k,\n",
    "             'acc_history'  : acc, \n",
    "             'f1_history'   : f1}\n",
    "    \n",
    "    return hasil"
   ]
  },
  {
   "cell_type": "markdown",
   "metadata": {},
   "source": [
    "## **Modelling**"
   ]
  },
  {
   "cell_type": "markdown",
   "metadata": {},
   "source": [
    "#### **Support Function**"
   ]
  },
  {
   "cell_type": "code",
   "execution_count": 31,
   "metadata": {},
   "outputs": [],
   "source": [
    "def confusion_matrix_plot(y_test, y_pred) :\n",
    "    kolom = ['negatif', 'positif']\n",
    "\n",
    "    confm = confusion_matrix(y_test, y_pred)\n",
    "    df_cm = pd.DataFrame(confm, index = kolom, columns=kolom)\n",
    "\n",
    "    ax = sn.heatmap(df_cm, cmap='Greens', annot=True, fmt=\".0f\")\n",
    "\n",
    "    ax.set_title('Confusion Matrix')\n",
    "    ax.set_xlabel('Sentimen Sebenarnya')\n",
    "    ax.set_ylabel('Sentimen Prediksi')\n",
    "\n",
    "    ax.invert_xaxis()\n",
    "\n",
    "    plt.show()"
   ]
  },
  {
   "cell_type": "code",
   "execution_count": 55,
   "metadata": {},
   "outputs": [],
   "source": [
    "def k_features_performance_plot(k, acc, f1) :\n",
    "    fig, ax = plt.subplots(2, 1)\n",
    "\n",
    "    ax[0].plot(k, acc, color = 'red')\n",
    "    ax[0 ].set_title('Accuracy dari setiap k-feature')\n",
    "\n",
    "    ax[1].plot(k, f1)\n",
    "    ax[1].set_title('F1-Score dari setiap k-feature')\n",
    "\n",
    "    plt.tight_layout()\n",
    "\n",
    "    plt.show()"
   ]
  },
  {
   "cell_type": "markdown",
   "metadata": {},
   "source": [
    "### **Gaussian Naive Bayes**"
   ]
  },
  {
   "cell_type": "markdown",
   "metadata": {},
   "source": [
    "#### **All Features**"
   ]
  },
  {
   "cell_type": "markdown",
   "metadata": {},
   "source": [
    "- **Preparing Model**"
   ]
  },
  {
   "cell_type": "code",
   "execution_count": null,
   "metadata": {},
   "outputs": [],
   "source": [
    "gnb_all_features = GaussianNB()\n",
    "gnb_all_features.fit(X_train_TFIDF, y_train)"
   ]
  },
  {
   "cell_type": "markdown",
   "metadata": {},
   "source": [
    "- **Classification Report**"
   ]
  },
  {
   "cell_type": "code",
   "execution_count": null,
   "metadata": {},
   "outputs": [],
   "source": [
    "y_pred_gnb_all  = gnb_all_features.predict(X_test_TFIDF)\n",
    "\n",
    "print(classification_report(y_test, y_pred_gnb_all))"
   ]
  },
  {
   "cell_type": "markdown",
   "metadata": {},
   "source": [
    "- **Confusion Matrix Heatmap**"
   ]
  },
  {
   "cell_type": "code",
   "execution_count": null,
   "metadata": {},
   "outputs": [],
   "source": [
    "confusion_matrix_plot(y_test, y_pred_gnb_all)"
   ]
  },
  {
   "cell_type": "markdown",
   "metadata": {},
   "source": [
    "#### **With 500 Features**"
   ]
  },
  {
   "cell_type": "markdown",
   "metadata": {},
   "source": [
    "- **Preparing Model**"
   ]
  },
  {
   "cell_type": "code",
   "execution_count": null,
   "metadata": {},
   "outputs": [],
   "source": [
    "gnb_500 = GaussianNB()\n",
    "gnb_500.fit(X_500_best_features, y_train)"
   ]
  },
  {
   "cell_type": "markdown",
   "metadata": {},
   "source": [
    "- **Classification Report**"
   ]
  },
  {
   "cell_type": "code",
   "execution_count": null,
   "metadata": {},
   "outputs": [],
   "source": [
    "X_test_gnb_500 = chi2_500_features.transform(X_test_TFIDF)\n",
    "y_pred_gnb_500 = gnb_500.predict(X_test_gnb_500)\n",
    "\n",
    "print(classification_report(y_test, y_pred_gnb_500))"
   ]
  },
  {
   "cell_type": "markdown",
   "metadata": {},
   "source": [
    "- **Confusion Matrix Heatmap**\n"
   ]
  },
  {
   "cell_type": "code",
   "execution_count": null,
   "metadata": {},
   "outputs": [],
   "source": [
    "confusion_matrix_plot(y_test, y_pred_gnb_500)"
   ]
  },
  {
   "cell_type": "markdown",
   "metadata": {},
   "source": [
    "#### **Eksperimen Feature Selection dengan 10-2000 Feature**"
   ]
  },
  {
   "cell_type": "markdown",
   "metadata": {},
   "source": [
    "- **Performance**  "
   ]
  },
  {
   "cell_type": "code",
   "execution_count": null,
   "metadata": {},
   "outputs": [],
   "source": [
    "k_gnb_performance = model_performance_with_feature_selection_with_k_feature(model_ = GaussianNB(), start = 501, end = 2000)\n",
    "\n",
    "k_gnb_max_acc     = k_gnb_performance['max_accuracy']\n",
    "k_gnb_max_f1      = k_gnb_performance['max_f1_score']\n",
    "k_gnb_k_history   = k_gnb_performance['k_history']\n",
    "k_gnb_acc_history = k_gnb_performance['acc_history']\n",
    "k_gnb_f1_history  = k_gnb_performance['f1_history']\n",
    "\n",
    "k_gnb_num_feature_acc = k_gnb_performance['k_feature_acc']\n",
    "k_gnb_num_feature_f1  = k_gnb_performance['k_feature_f1']"
   ]
  },
  {
   "cell_type": "code",
   "execution_count": null,
   "metadata": {},
   "outputs": [],
   "source": [
    "print(f\"Accuracy terbaik adalah {k_gnb_max_acc} dengan banyaknya fitur {k_gnb_num_feature_acc}\")\n",
    "print(f\"F1-Score terbaik adalah {k_gnb_max_f1} dengan banyaknya fitur  {k_gnb_num_feature_f1}\")"
   ]
  },
  {
   "cell_type": "markdown",
   "metadata": {},
   "source": [
    "- **Plot Accuracy dan F1-Score tiap K-Feature**"
   ]
  },
  {
   "cell_type": "code",
   "execution_count": null,
   "metadata": {},
   "outputs": [],
   "source": [
    "k_features_performance_plot(k_gnb_k_history, k_gnb_acc_history, k_gnb_f1_history)"
   ]
  },
  {
   "cell_type": "markdown",
   "metadata": {},
   "source": [
    "- **Feature Selection dengan K = 1992 (Hasil Eksperimen)**"
   ]
  },
  {
   "cell_type": "code",
   "execution_count": null,
   "metadata": {},
   "outputs": [],
   "source": [
    "chi2_features = SelectKBest(chi2, k = k_gnb_num_feature_f1)\n",
    "X_kbest_gnb_features = chi2_features.fit_transform(train_tf_idf.values, y_train)\n",
    "\n",
    "print('Banyaknya fitur awal:', train_tf_idf.shape[1])\n",
    "print('Banyaknya fitur setelah diseleksi:', X_kbest_gnb_features.shape[1])"
   ]
  },
  {
   "cell_type": "markdown",
   "metadata": {},
   "source": [
    "- **Classification Report**"
   ]
  },
  {
   "cell_type": "code",
   "execution_count": null,
   "metadata": {},
   "outputs": [],
   "source": [
    "k_gnb = GaussianNB()\n",
    "k_gnb.fit(X_kbest_gnb_features, y_train)\n",
    "\n",
    "X_test_ch2 = chi2_features.transform(X_test_TFIDF)\n",
    "\n",
    "# Prediksi label untuk data uji\n",
    "y_pred_k_gnb = k_gnb.predict(X_test_ch2)\n",
    "\n",
    "accuracy_k_gnb = accuracy_score(y_test, y_pred_k_gnb)\n",
    "\n",
    "print(classification_report(y_test, y_pred_k_gnb))"
   ]
  },
  {
   "cell_type": "markdown",
   "metadata": {},
   "source": [
    "- **Confusion Matrix Heatmap**"
   ]
  },
  {
   "cell_type": "code",
   "execution_count": null,
   "metadata": {},
   "outputs": [],
   "source": [
    "confusion_matrix_plot(y_test, y_pred_k_gnb)"
   ]
  },
  {
   "cell_type": "markdown",
   "metadata": {},
   "source": [
    "### **Logistic Regression**"
   ]
  },
  {
   "cell_type": "markdown",
   "metadata": {},
   "source": [
    "#### **All Features**"
   ]
  },
  {
   "cell_type": "markdown",
   "metadata": {},
   "source": [
    "- **Preparing Model**"
   ]
  },
  {
   "cell_type": "code",
   "execution_count": null,
   "metadata": {},
   "outputs": [],
   "source": [
    "lr_all_features = LogisticRegression(C = 10.0, fit_intercept = False)\n",
    "lr_all_features.fit(X_train_TFIDF, y_train)"
   ]
  },
  {
   "cell_type": "markdown",
   "metadata": {},
   "source": [
    "- **Classification Report**"
   ]
  },
  {
   "cell_type": "code",
   "execution_count": null,
   "metadata": {},
   "outputs": [],
   "source": [
    "y_pred_lr_all = lr_all_features.predict(X_test_TFIDF)\n",
    "\n",
    "print(classification_report(y_test, y_pred_lr_all))"
   ]
  },
  {
   "cell_type": "markdown",
   "metadata": {},
   "source": [
    "- **Confusion Matrix Heatmap**"
   ]
  },
  {
   "cell_type": "code",
   "execution_count": 64,
   "metadata": {},
   "outputs": [
    {
     "data": {
      "image/png": "[encoded data removed]",
      "text/plain": [
       "<Figure size 640x480 with 2 Axes>"
      ]
     },
     "metadata": {},
     "output_type": "display_data"
    }
   ],
   "source": [
    "confusion_matrix_plot(y_test, y_pred_lr_all)"
   ]
  },
  {
   "cell_type": "markdown",
   "metadata": {},
   "source": [
    "#### **With 500 Features**"
   ]
  },
  {
   "cell_type": "markdown",
   "metadata": {},
   "source": [
    "- **Preparing Model**"
   ]
  },
  {
   "cell_type": "code",
   "execution_count": null,
   "metadata": {},
   "outputs": [],
   "source": [
    "lr_500 = LogisticRegression(C = 10.0, fit_intercept = False)\n",
    "lr_500.fit(X_500_best_features, y_train)"
   ]
  },
  {
   "cell_type": "markdown",
   "metadata": {},
   "source": [
    "- **Classification Report**"
   ]
  },
  {
   "cell_type": "code",
   "execution_count": null,
   "metadata": {
    "colab": {
     "base_uri": "https://localhost:8080/",
     "height": 628
    },
    "id": "6rfFc2EBswyz",
    "outputId": "289a26ee-e194-4390-8224-45c262863502"
   },
   "outputs": [],
   "source": [
    "X_test_lr_500 = chi2_500_features.transform(X_test_TFIDF)\n",
    "y_pred_lr_500 = lr_500.predict(X_test_lr_500)\n",
    "\n",
    "print(classification_report(y_test, y_pred_lr_500))"
   ]
  },
  {
   "cell_type": "markdown",
   "metadata": {},
   "source": [
    "- **Confusion Matrix Heatmap**"
   ]
  },
  {
   "cell_type": "code",
   "execution_count": 65,
   "metadata": {},
   "outputs": [
    {
     "data": {
      "image/png": "[encoded data removed]",
      "text/plain": [
       "<Figure size 640x480 with 2 Axes>"
      ]
     },
     "metadata": {},
     "output_type": "display_data"
    }
   ],
   "source": [
    "confusion_matrix_plot(y_test, y_pred_lr_500)"
   ]
  },
  {
   "cell_type": "markdown",
   "metadata": {},
   "source": [
    "#### **Eksperimen Feature Selection dengan 10-2000 Feature**"
   ]
  },
  {
   "cell_type": "markdown",
   "metadata": {},
   "source": [
    "- **Performance**  \n"
   ]
  },
  {
   "cell_type": "code",
   "execution_count": null,
   "metadata": {},
   "outputs": [],
   "source": [
    "k_lr_performance = model_performance_with_feature_selection_with_k_feature(model_ = LogisticRegression(C = 10.0, fit_intercept = False), start = 501, end = 2000)\n",
    "\n",
    "k_lr_max_acc     = k_lr_performance['max_accuracy']\n",
    "k_lr_max_f1      = k_lr_performance['max_f1_score']\n",
    "k_lr_k_history   = k_lr_performance['k_history']\n",
    "k_lr_acc_history = k_lr_performance['acc_history']\n",
    "k_lr_f1_history  = k_lr_performance['f1_history']\n",
    "\n",
    "k_lr_num_feature_acc = k_lr_performance['k_feature_acc']\n",
    "k_lr_num_feature_f1  = k_lr_performance['k_feature_f1']"
   ]
  },
  {
   "cell_type": "code",
   "execution_count": null,
   "metadata": {},
   "outputs": [],
   "source": [
    "print(f\"Accuracy terbaik adalah {k_lr_max_acc} dengan banyaknya fitur {k_lr_num_feature_acc}\")\n",
    "print(f\"F1-Score terbaik adalah {k_lr_max_f1} dengan banyaknya fitur  {k_lr_num_feature_f1}\")"
   ]
  },
  {
   "cell_type": "markdown",
   "metadata": {},
   "source": [
    "- **Plot Accuracy dan F1-Score tiap K-Feature**"
   ]
  },
  {
   "cell_type": "code",
   "execution_count": null,
   "metadata": {},
   "outputs": [],
   "source": [
    "k_features_performance_plot(k_lr_k_history, k_lr_acc_history, k_lr_f1_history)"
   ]
  },
  {
   "cell_type": "markdown",
   "metadata": {},
   "source": [
    "- **Feature Selection dengan K = 1543 (Hasil Eksperimen)**"
   ]
  },
  {
   "cell_type": "code",
   "execution_count": null,
   "metadata": {},
   "outputs": [],
   "source": [
    "chi2_features = SelectKBest(chi2, k = k_lr_num_feature_f1)\n",
    "X_kbest_lr_features = chi2_features.fit_transform(train_tf_idf.values, y_train)\n",
    "\n",
    "print('Banyaknya fitur awal:', train_tf_idf.shape[1])\n",
    "print('Banyaknya fitur setelah diseleksi:', X_kbest_lr_features.shape[1])"
   ]
  },
  {
   "cell_type": "markdown",
   "metadata": {},
   "source": [
    "- **Classification Report**"
   ]
  },
  {
   "cell_type": "code",
   "execution_count": null,
   "metadata": {
    "colab": {
     "base_uri": "https://localhost:8080/",
     "height": 663
    },
    "id": "84OQ9ae4tG7y",
    "outputId": "e7e52801-fea9-4fe7-a43f-233c340030a4"
   },
   "outputs": [],
   "source": [
    "k_lr = LogisticRegression(C = 10.0, fit_intercept = False)\n",
    "k_lr.fit(X_kbest_lr_features, y_train)\n",
    "\n",
    "X_test_ch2 = chi2_features.transform(X_test_TFIDF)\n",
    "\n",
    "# Prediksi label untuk data uji\n",
    "y_pred_k_lr = k_lr.predict(X_test_ch2)\n",
    "\n",
    "accuracy_k_lr = accuracy_score(y_test, y_pred_k_lr)\n",
    "\n",
    "print(classification_report(y_test, y_pred_k_lr))"
   ]
  },
  {
   "cell_type": "markdown",
   "metadata": {},
   "source": [
    "- **Confusion Matrix Heatmap**"
   ]
  },
  {
   "cell_type": "code",
   "execution_count": null,
   "metadata": {},
   "outputs": [],
   "source": [
    "confusion_matrix_plot(y_test, y_pred_k_lr)"
   ]
  }
 ],
 "metadata": {
  "colab": {
   "provenance": []
  },
  "kernelspec": {
   "display_name": "ml-engineer",
   "language": "python",
   "name": "python3"
  },
  "language_info": {
   "codemirror_mode": {
    "name": "ipython",
    "version": 3
   },
   "file_extension": ".py",
   "mimetype": "text/x-python",
   "name": "python",
   "nbconvert_exporter": "python",
   "pygments_lexer": "ipython3",
   "version": "3.9.20"
  }
 },
 "nbformat": 4,
 "nbformat_minor": 0
}
